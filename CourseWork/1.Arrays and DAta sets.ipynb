{
 "cells": [
  {
   "cell_type": "code",
   "execution_count": 3,
   "id": "cef7d334-acd4-4308-bf8e-0905b2207dbe",
   "metadata": {},
   "outputs": [],
   "source": [
    "import pandas as pd\n",
    "import numpy as np"
   ]
  },
  {
   "cell_type": "markdown",
   "id": "efc13ba7-9e80-4378-ac09-8b15ed2ba605",
   "metadata": {},
   "source": [
    "# Creating A dataframe from an array"
   ]
  },
  {
   "cell_type": "markdown",
   "id": "4130269e-187c-4cea-96d7-152b82df376f",
   "metadata": {},
   "source": [
    "## 1. Option 1\n",
    "\n"
   ]
  },
  {
   "cell_type": "code",
   "execution_count": 4,
   "id": "2943a70b-716b-43bd-9dbf-3b57a7658668",
   "metadata": {},
   "outputs": [
    {
     "data": {
      "text/plain": [
       "array([[1, 4],\n",
       "       [2, 5],\n",
       "       [3, 6]])"
      ]
     },
     "execution_count": 4,
     "metadata": {},
     "output_type": "execute_result"
    }
   ],
   "source": [
    "# creating an Array\n",
    "data = np.array([[1,4],[2,5],[3,6]])\n",
    "data\n"
   ]
  },
  {
   "cell_type": "code",
   "execution_count": 5,
   "id": "475747a4-a508-42ee-b31b-a0bcb5224326",
   "metadata": {},
   "outputs": [],
   "source": [
    "#creating a dataframe\n",
    "df = pd.DataFrame(data,index=['row1','row2','row3'],\n",
    "            columns=['col1','col2'])"
   ]
  },
  {
   "cell_type": "code",
   "execution_count": 6,
   "id": "4eaf1ad0-9f69-4105-be1e-1bacdc57d66e",
   "metadata": {},
   "outputs": [
    {
     "data": {
      "text/html": [
       "<div>\n",
       "<style scoped>\n",
       "    .dataframe tbody tr th:only-of-type {\n",
       "        vertical-align: middle;\n",
       "    }\n",
       "\n",
       "    .dataframe tbody tr th {\n",
       "        vertical-align: top;\n",
       "    }\n",
       "\n",
       "    .dataframe thead th {\n",
       "        text-align: right;\n",
       "    }\n",
       "</style>\n",
       "<table border=\"1\" class=\"dataframe\">\n",
       "  <thead>\n",
       "    <tr style=\"text-align: right;\">\n",
       "      <th></th>\n",
       "      <th>col1</th>\n",
       "      <th>col2</th>\n",
       "    </tr>\n",
       "  </thead>\n",
       "  <tbody>\n",
       "    <tr>\n",
       "      <th>row1</th>\n",
       "      <td>1</td>\n",
       "      <td>4</td>\n",
       "    </tr>\n",
       "    <tr>\n",
       "      <th>row2</th>\n",
       "      <td>2</td>\n",
       "      <td>5</td>\n",
       "    </tr>\n",
       "    <tr>\n",
       "      <th>row3</th>\n",
       "      <td>3</td>\n",
       "      <td>6</td>\n",
       "    </tr>\n",
       "  </tbody>\n",
       "</table>\n",
       "</div>"
      ],
      "text/plain": [
       "      col1  col2\n",
       "row1     1     4\n",
       "row2     2     5\n",
       "row3     3     6"
      ]
     },
     "execution_count": 6,
     "metadata": {},
     "output_type": "execute_result"
    }
   ],
   "source": [
    "# showing dataframe\n",
    "df"
   ]
  },
  {
   "cell_type": "markdown",
   "id": "dd8b2e43-ef7b-4cfb-8e70-f5fd51a598e0",
   "metadata": {},
   "source": [
    "## 2. option 2"
   ]
  },
  {
   "cell_type": "code",
   "execution_count": 7,
   "id": "0c076ff3-a41f-4d4e-b536-abad30c60292",
   "metadata": {},
   "outputs": [],
   "source": [
    "#creating an array with list shape\n",
    "data= [[1,4],[2,5],[3,6]]"
   ]
  },
  {
   "cell_type": "code",
   "execution_count": 8,
   "id": "d10fd3c7-7665-4c16-bca1-5b21224e6159",
   "metadata": {},
   "outputs": [],
   "source": [
    "#creating a dataframe \n",
    "df = pd.DataFrame(data,index=['row1','row2','row3'],\n",
    "            columns=['col1','col2'])"
   ]
  },
  {
   "cell_type": "code",
   "execution_count": 9,
   "id": "47caecb5-c1b3-4027-b16e-89b8d8d5fa53",
   "metadata": {},
   "outputs": [
    {
     "data": {
      "text/html": [
       "<div>\n",
       "<style scoped>\n",
       "    .dataframe tbody tr th:only-of-type {\n",
       "        vertical-align: middle;\n",
       "    }\n",
       "\n",
       "    .dataframe tbody tr th {\n",
       "        vertical-align: top;\n",
       "    }\n",
       "\n",
       "    .dataframe thead th {\n",
       "        text-align: right;\n",
       "    }\n",
       "</style>\n",
       "<table border=\"1\" class=\"dataframe\">\n",
       "  <thead>\n",
       "    <tr style=\"text-align: right;\">\n",
       "      <th></th>\n",
       "      <th>col1</th>\n",
       "      <th>col2</th>\n",
       "    </tr>\n",
       "  </thead>\n",
       "  <tbody>\n",
       "    <tr>\n",
       "      <th>row1</th>\n",
       "      <td>1</td>\n",
       "      <td>4</td>\n",
       "    </tr>\n",
       "    <tr>\n",
       "      <th>row2</th>\n",
       "      <td>2</td>\n",
       "      <td>5</td>\n",
       "    </tr>\n",
       "    <tr>\n",
       "      <th>row3</th>\n",
       "      <td>3</td>\n",
       "      <td>6</td>\n",
       "    </tr>\n",
       "  </tbody>\n",
       "</table>\n",
       "</div>"
      ],
      "text/plain": [
       "      col1  col2\n",
       "row1     1     4\n",
       "row2     2     5\n",
       "row3     3     6"
      ]
     },
     "execution_count": 9,
     "metadata": {},
     "output_type": "execute_result"
    }
   ],
   "source": [
    "# showing the dataframe \n",
    "df"
   ]
  },
  {
   "cell_type": "markdown",
   "id": "41a3e872-5ffa-43bf-8ef8-133f9b30e7d8",
   "metadata": {},
   "source": [
    "## Option 3 Creating a DataFrame From a dictionary"
   ]
  },
  {
   "cell_type": "code",
   "execution_count": 10,
   "id": "31b25e16-5fd4-4b02-b477-8ad350539c5c",
   "metadata": {},
   "outputs": [],
   "source": [
    "# lists used for this example\n",
    "states=['california' , ' Texas' , 'Florida ' , 'new york' ]\n",
    "population = [112113321,23123121,12412421,124222211]\n"
   ]
  },
  {
   "cell_type": "code",
   "execution_count": 11,
   "id": "2ca4413b-94f3-48c8-9d80-8f24eeddc7bd",
   "metadata": {},
   "outputs": [],
   "source": [
    "# storing list within a dictionary\n",
    "dict_states={'States':states,'Population':population}"
   ]
  },
  {
   "cell_type": "code",
   "execution_count": 12,
   "id": "ade4e274-a265-493b-b749-0e7a9934fc2b",
   "metadata": {},
   "outputs": [],
   "source": [
    "# Creating the dataframe\n",
    "df=pd.DataFrame(dict_states)\n"
   ]
  },
  {
   "cell_type": "code",
   "execution_count": 13,
   "id": "aafcc4b5-ccf7-4da2-b5ee-8adcee1e23e3",
   "metadata": {},
   "outputs": [
    {
     "data": {
      "text/html": [
       "<div>\n",
       "<style scoped>\n",
       "    .dataframe tbody tr th:only-of-type {\n",
       "        vertical-align: middle;\n",
       "    }\n",
       "\n",
       "    .dataframe tbody tr th {\n",
       "        vertical-align: top;\n",
       "    }\n",
       "\n",
       "    .dataframe thead th {\n",
       "        text-align: right;\n",
       "    }\n",
       "</style>\n",
       "<table border=\"1\" class=\"dataframe\">\n",
       "  <thead>\n",
       "    <tr style=\"text-align: right;\">\n",
       "      <th></th>\n",
       "      <th>States</th>\n",
       "      <th>Population</th>\n",
       "    </tr>\n",
       "  </thead>\n",
       "  <tbody>\n",
       "    <tr>\n",
       "      <th>0</th>\n",
       "      <td>california</td>\n",
       "      <td>112113321</td>\n",
       "    </tr>\n",
       "    <tr>\n",
       "      <th>1</th>\n",
       "      <td>Texas</td>\n",
       "      <td>23123121</td>\n",
       "    </tr>\n",
       "    <tr>\n",
       "      <th>2</th>\n",
       "      <td>Florida</td>\n",
       "      <td>12412421</td>\n",
       "    </tr>\n",
       "    <tr>\n",
       "      <th>3</th>\n",
       "      <td>new york</td>\n",
       "      <td>124222211</td>\n",
       "    </tr>\n",
       "  </tbody>\n",
       "</table>\n",
       "</div>"
      ],
      "text/plain": [
       "       States  Population\n",
       "0  california   112113321\n",
       "1       Texas    23123121\n",
       "2    Florida     12412421\n",
       "3    new york   124222211"
      ]
     },
     "execution_count": 13,
     "metadata": {},
     "output_type": "execute_result"
    }
   ],
   "source": [
    "# showing the data frame\n",
    "df"
   ]
  },
  {
   "cell_type": "markdown",
   "id": "bbf5bb81-47ed-482f-b608-41be0f152a83",
   "metadata": {},
   "source": [
    "## Option 4 : Creating a DF from a CSV File \n"
   ]
  },
  {
   "cell_type": "code",
   "execution_count": 14,
   "id": "be80558f-9e6e-4f93-8c31-d4466eca947b",
   "metadata": {},
   "outputs": [],
   "source": [
    "# reading the csv file\n",
    "df_salary=pd.read_csv(\"Salary.csv\")\n"
   ]
  },
  {
   "cell_type": "code",
   "execution_count": 15,
   "id": "75731283-d84a-40a5-a34c-4778641a12fb",
   "metadata": {},
   "outputs": [
    {
     "data": {
      "text/html": [
       "<div>\n",
       "<style scoped>\n",
       "    .dataframe tbody tr th:only-of-type {\n",
       "        vertical-align: middle;\n",
       "    }\n",
       "\n",
       "    .dataframe tbody tr th {\n",
       "        vertical-align: top;\n",
       "    }\n",
       "\n",
       "    .dataframe thead th {\n",
       "        text-align: right;\n",
       "    }\n",
       "</style>\n",
       "<table border=\"1\" class=\"dataframe\">\n",
       "  <thead>\n",
       "    <tr style=\"text-align: right;\">\n",
       "      <th></th>\n",
       "      <th>name</th>\n",
       "      <th>JobTitle</th>\n",
       "      <th>AgencyID</th>\n",
       "      <th>Agency</th>\n",
       "      <th>HireDate</th>\n",
       "      <th>AnnualSalary</th>\n",
       "      <th>GrossPay</th>\n",
       "    </tr>\n",
       "  </thead>\n",
       "  <tbody>\n",
       "    <tr>\n",
       "      <th>0</th>\n",
       "      <td>Aaron,Patricia G</td>\n",
       "      <td>Facilities/Office Services II</td>\n",
       "      <td>A03031</td>\n",
       "      <td>OED-Employment Dev (031)</td>\n",
       "      <td>10/24/1979</td>\n",
       "      <td>$55314.00</td>\n",
       "      <td>$53626.04</td>\n",
       "    </tr>\n",
       "    <tr>\n",
       "      <th>1</th>\n",
       "      <td>Aaron,Petra L</td>\n",
       "      <td>ASSISTANT STATE'S ATTORNEY</td>\n",
       "      <td>A29045</td>\n",
       "      <td>States Attorneys Office (045)</td>\n",
       "      <td>09/25/2006</td>\n",
       "      <td>$74000.00</td>\n",
       "      <td>$73000.08</td>\n",
       "    </tr>\n",
       "    <tr>\n",
       "      <th>2</th>\n",
       "      <td>Abaineh,Yohannes T</td>\n",
       "      <td>EPIDEMIOLOGIST</td>\n",
       "      <td>A65026</td>\n",
       "      <td>HLTH-Health Department (026)</td>\n",
       "      <td>07/23/2009</td>\n",
       "      <td>$64500.00</td>\n",
       "      <td>$64403.84</td>\n",
       "    </tr>\n",
       "    <tr>\n",
       "      <th>3</th>\n",
       "      <td>Abbene,Anthony M</td>\n",
       "      <td>POLICE OFFICER</td>\n",
       "      <td>A99005</td>\n",
       "      <td>Police Department (005)</td>\n",
       "      <td>07/24/2013</td>\n",
       "      <td>$46309.00</td>\n",
       "      <td>$59620.16</td>\n",
       "    </tr>\n",
       "    <tr>\n",
       "      <th>4</th>\n",
       "      <td>Abbey,Emmanuel</td>\n",
       "      <td>CONTRACT SERV SPEC II</td>\n",
       "      <td>A40001</td>\n",
       "      <td>M-R Info Technology (001)</td>\n",
       "      <td>05/01/2013</td>\n",
       "      <td>$60060.00</td>\n",
       "      <td>$54059.60</td>\n",
       "    </tr>\n",
       "  </tbody>\n",
       "</table>\n",
       "</div>"
      ],
      "text/plain": [
       "                 name                       JobTitle AgencyID  \\\n",
       "0    Aaron,Patricia G  Facilities/Office Services II   A03031   \n",
       "1       Aaron,Petra L     ASSISTANT STATE'S ATTORNEY   A29045   \n",
       "2  Abaineh,Yohannes T                 EPIDEMIOLOGIST   A65026   \n",
       "3    Abbene,Anthony M                 POLICE OFFICER   A99005   \n",
       "4      Abbey,Emmanuel          CONTRACT SERV SPEC II   A40001   \n",
       "\n",
       "                          Agency    HireDate AnnualSalary   GrossPay  \n",
       "0       OED-Employment Dev (031)  10/24/1979    $55314.00  $53626.04  \n",
       "1  States Attorneys Office (045)  09/25/2006    $74000.00  $73000.08  \n",
       "2   HLTH-Health Department (026)  07/23/2009    $64500.00  $64403.84  \n",
       "3        Police Department (005)  07/24/2013    $46309.00  $59620.16  \n",
       "4      M-R Info Technology (001)  05/01/2013    $60060.00  $54059.60  "
      ]
     },
     "execution_count": 15,
     "metadata": {},
     "output_type": "execute_result"
    }
   ],
   "source": [
    "# show first 5 row in a dataFrame\n",
    "df_salary.head()"
   ]
  },
  {
   "cell_type": "code",
   "execution_count": null,
   "id": "a76c1a38-18c6-4703-8819-6c8554d2b727",
   "metadata": {},
   "outputs": [],
   "source": []
  }
 ],
 "metadata": {
  "kernelspec": {
   "display_name": "Python 3 (ipykernel)",
   "language": "python",
   "name": "python3"
  },
  "language_info": {
   "codemirror_mode": {
    "name": "ipython",
    "version": 3
   },
   "file_extension": ".py",
   "mimetype": "text/x-python",
   "name": "python",
   "nbconvert_exporter": "python",
   "pygments_lexer": "ipython3",
   "version": "3.13.5"
  }
 },
 "nbformat": 4,
 "nbformat_minor": 5
}
