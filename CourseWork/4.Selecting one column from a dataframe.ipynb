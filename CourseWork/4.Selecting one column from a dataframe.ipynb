{
 "cells": [
  {
   "cell_type": "code",
   "execution_count": 1,
   "id": "814370ec-2a28-4708-8c3a-c0f19662d273",
   "metadata": {},
   "outputs": [
    {
     "data": {
      "text/html": [
       "<div>\n",
       "<style scoped>\n",
       "    .dataframe tbody tr th:only-of-type {\n",
       "        vertical-align: middle;\n",
       "    }\n",
       "\n",
       "    .dataframe tbody tr th {\n",
       "        vertical-align: top;\n",
       "    }\n",
       "\n",
       "    .dataframe thead th {\n",
       "        text-align: right;\n",
       "    }\n",
       "</style>\n",
       "<table border=\"1\" class=\"dataframe\">\n",
       "  <thead>\n",
       "    <tr style=\"text-align: right;\">\n",
       "      <th></th>\n",
       "      <th>name</th>\n",
       "      <th>JobTitle</th>\n",
       "      <th>AgencyID</th>\n",
       "      <th>Agency</th>\n",
       "      <th>HireDate</th>\n",
       "      <th>AnnualSalary</th>\n",
       "      <th>GrossPay</th>\n",
       "    </tr>\n",
       "  </thead>\n",
       "  <tbody>\n",
       "    <tr>\n",
       "      <th>0</th>\n",
       "      <td>Aaron,Patricia G</td>\n",
       "      <td>Facilities/Office Services II</td>\n",
       "      <td>A03031</td>\n",
       "      <td>OED-Employment Dev (031)</td>\n",
       "      <td>10/24/1979</td>\n",
       "      <td>$55314.00</td>\n",
       "      <td>$53626.04</td>\n",
       "    </tr>\n",
       "    <tr>\n",
       "      <th>1</th>\n",
       "      <td>Aaron,Petra L</td>\n",
       "      <td>ASSISTANT STATE'S ATTORNEY</td>\n",
       "      <td>A29045</td>\n",
       "      <td>States Attorneys Office (045)</td>\n",
       "      <td>09/25/2006</td>\n",
       "      <td>$74000.00</td>\n",
       "      <td>$73000.08</td>\n",
       "    </tr>\n",
       "    <tr>\n",
       "      <th>2</th>\n",
       "      <td>Abaineh,Yohannes T</td>\n",
       "      <td>EPIDEMIOLOGIST</td>\n",
       "      <td>A65026</td>\n",
       "      <td>HLTH-Health Department (026)</td>\n",
       "      <td>07/23/2009</td>\n",
       "      <td>$64500.00</td>\n",
       "      <td>$64403.84</td>\n",
       "    </tr>\n",
       "    <tr>\n",
       "      <th>3</th>\n",
       "      <td>Abbene,Anthony M</td>\n",
       "      <td>POLICE OFFICER</td>\n",
       "      <td>A99005</td>\n",
       "      <td>Police Department (005)</td>\n",
       "      <td>07/24/2013</td>\n",
       "      <td>$46309.00</td>\n",
       "      <td>$59620.16</td>\n",
       "    </tr>\n",
       "    <tr>\n",
       "      <th>4</th>\n",
       "      <td>Abbey,Emmanuel</td>\n",
       "      <td>CONTRACT SERV SPEC II</td>\n",
       "      <td>A40001</td>\n",
       "      <td>M-R Info Technology (001)</td>\n",
       "      <td>05/01/2013</td>\n",
       "      <td>$60060.00</td>\n",
       "      <td>$54059.60</td>\n",
       "    </tr>\n",
       "  </tbody>\n",
       "</table>\n",
       "</div>"
      ],
      "text/plain": [
       "                 name                       JobTitle AgencyID  \\\n",
       "0    Aaron,Patricia G  Facilities/Office Services II   A03031   \n",
       "1       Aaron,Petra L     ASSISTANT STATE'S ATTORNEY   A29045   \n",
       "2  Abaineh,Yohannes T                 EPIDEMIOLOGIST   A65026   \n",
       "3    Abbene,Anthony M                 POLICE OFFICER   A99005   \n",
       "4      Abbey,Emmanuel          CONTRACT SERV SPEC II   A40001   \n",
       "\n",
       "                          Agency    HireDate AnnualSalary   GrossPay  \n",
       "0       OED-Employment Dev (031)  10/24/1979    $55314.00  $53626.04  \n",
       "1  States Attorneys Office (045)  09/25/2006    $74000.00  $73000.08  \n",
       "2   HLTH-Health Department (026)  07/23/2009    $64500.00  $64403.84  \n",
       "3        Police Department (005)  07/24/2013    $46309.00  $59620.16  \n",
       "4      M-R Info Technology (001)  05/01/2013    $60060.00  $54059.60  "
      ]
     },
     "execution_count": 1,
     "metadata": {},
     "output_type": "execute_result"
    }
   ],
   "source": [
    "import pandas as pd\n",
    "# reading the csv file\n",
    "df_salary=pd.read_csv(\"Salary.csv\")\n",
    "df_salary.head()"
   ]
  },
  {
   "cell_type": "markdown",
   "id": "733478f9-a845-45b8-bd53-e9addb3a4ef8",
   "metadata": {},
   "source": [
    "# 1 Selecting one column"
   ]
  },
  {
   "cell_type": "markdown",
   "id": "ed0a91c5-20cb-4c4d-899e-726a1896eb20",
   "metadata": {},
   "source": [
    "## 1.1 Syntax 1\n"
   ]
  },
  {
   "cell_type": "code",
   "execution_count": 12,
   "id": "2edc4cda-7c78-4f1f-a8b7-89e89274f6b5",
   "metadata": {},
   "outputs": [
    {
     "data": {
      "text/plain": [
       "0             OED-Employment Dev (031)\n",
       "1        States Attorneys Office (045)\n",
       "2         HLTH-Health Department (026)\n",
       "3              Police Department (005)\n",
       "4            M-R Info Technology (001)\n",
       "                     ...              \n",
       "14012    DPW-Water & Waste Water (509)\n",
       "14013           COMP-Real Estate (001)\n",
       "14014          Police Department (224)\n",
       "14015          Police Department (006)\n",
       "14016    DPW-Water & Waste Water (206)\n",
       "Name: Agency, Length: 14017, dtype: object"
      ]
     },
     "execution_count": 12,
     "metadata": {},
     "output_type": "execute_result"
    }
   ],
   "source": [
    "# selecting a column with [] (preferred way to select a column )\n",
    "df_salary['Agency']"
   ]
  },
  {
   "cell_type": "code",
   "execution_count": 13,
   "id": "ca5d13c7-8f30-4b27-b7aa-a9b7245c481a",
   "metadata": {},
   "outputs": [
    {
     "data": {
      "text/plain": [
       "pandas.core.series.Series"
      ]
     },
     "execution_count": 13,
     "metadata": {},
     "output_type": "execute_result"
    }
   ],
   "source": [
    "# check out the data type of the column \n",
    "type(df_salary['Agency'])"
   ]
  },
  {
   "cell_type": "code",
   "execution_count": 14,
   "id": "55e4912f-2957-458f-8cc0-313d374eac13",
   "metadata": {},
   "outputs": [
    {
     "data": {
      "text/plain": [
       "0         OED-Employment Dev (031)\n",
       "1    States Attorneys Office (045)\n",
       "2     HLTH-Health Department (026)\n",
       "3          Police Department (005)\n",
       "4        M-R Info Technology (001)\n",
       "Name: Agency, dtype: object"
      ]
     },
     "execution_count": 14,
     "metadata": {},
     "output_type": "execute_result"
    }
   ],
   "source": [
    "# series : attributes and methods\n",
    "df_salary['Agency'].index\n",
    "df_salary['Agency'].head()"
   ]
  },
  {
   "cell_type": "markdown",
   "id": "3ba5ff69-755b-4353-af40-736b36a5aef4",
   "metadata": {},
   "source": [
    "## 1.2 Syntax 2"
   ]
  },
  {
   "cell_type": "code",
   "execution_count": 17,
   "id": "34418e2b-9483-405a-8cd5-dcffc3d29442",
   "metadata": {},
   "outputs": [
    {
     "data": {
      "text/plain": [
       "0             OED-Employment Dev (031)\n",
       "1        States Attorneys Office (045)\n",
       "2         HLTH-Health Department (026)\n",
       "3              Police Department (005)\n",
       "4            M-R Info Technology (001)\n",
       "                     ...              \n",
       "14012    DPW-Water & Waste Water (509)\n",
       "14013           COMP-Real Estate (001)\n",
       "14014          Police Department (224)\n",
       "14015          Police Department (006)\n",
       "14016    DPW-Water & Waste Water (206)\n",
       "Name: Agency, Length: 14017, dtype: object"
      ]
     },
     "execution_count": 17,
     "metadata": {},
     "output_type": "execute_result"
    }
   ],
   "source": [
    "# select a column with . (pitfalls )\n",
    "df_salary.Agency"
   ]
  },
  {
   "cell_type": "code",
   "execution_count": 18,
   "id": "2d4897c7-477e-4a20-970a-666c5928c404",
   "metadata": {},
   "outputs": [
    {
     "data": {
      "text/plain": [
       "0             OED-Employment Dev (031)\n",
       "1        States Attorneys Office (045)\n",
       "2         HLTH-Health Department (026)\n",
       "3              Police Department (005)\n",
       "4            M-R Info Technology (001)\n",
       "                     ...              \n",
       "14012    DPW-Water & Waste Water (509)\n",
       "14013           COMP-Real Estate (001)\n",
       "14014          Police Department (224)\n",
       "14015          Police Department (006)\n",
       "14016    DPW-Water & Waste Water (206)\n",
       "Name: Agency, Length: 14017, dtype: object"
      ]
     },
     "execution_count": 18,
     "metadata": {},
     "output_type": "execute_result"
    }
   ],
   "source": [
    "# select the same column using []\n",
    "df_salary['Agency']"
   ]
  },
  {
   "cell_type": "code",
   "execution_count": null,
   "id": "aaf3cc80-bd90-40a1-a03e-37529ed265a4",
   "metadata": {},
   "outputs": [],
   "source": [
    "# "
   ]
  }
 ],
 "metadata": {
  "kernelspec": {
   "display_name": "Python 3 (ipykernel)",
   "language": "python",
   "name": "python3"
  },
  "language_info": {
   "codemirror_mode": {
    "name": "ipython",
    "version": 3
   },
   "file_extension": ".py",
   "mimetype": "text/x-python",
   "name": "python",
   "nbconvert_exporter": "python",
   "pygments_lexer": "ipython3",
   "version": "3.13.5"
  }
 },
 "nbformat": 4,
 "nbformat_minor": 5
}
