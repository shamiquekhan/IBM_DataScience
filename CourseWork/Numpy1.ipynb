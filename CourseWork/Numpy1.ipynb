{
 "cells": [
  {
   "cell_type": "code",
   "execution_count": 1,
   "id": "f1c7f74b-9a69-4adb-bf47-a27a2ed42736",
   "metadata": {},
   "outputs": [],
   "source": [
    "import numpy as np"
   ]
  },
  {
   "cell_type": "markdown",
   "id": "67cc8955-8c56-4a6b-8aa8-532501f84ea2",
   "metadata": {},
   "source": [
    "# The Basic and Array Creation"
   ]
  },
  {
   "cell_type": "code",
   "execution_count": 2,
   "id": "5a2dff27-5eff-4989-81cf-05d34e548aa1",
   "metadata": {},
   "outputs": [],
   "source": [
    "a=['0',1,\"two\",\"3\",4]"
   ]
  },
  {
   "cell_type": "code",
   "execution_count": 3,
   "id": "3c447ba6-4228-42a6-9361-3b24dd40022c",
   "metadata": {},
   "outputs": [
    {
     "data": {
      "text/plain": [
       "['0', 1, 'two', '3', 4]"
      ]
     },
     "execution_count": 3,
     "metadata": {},
     "output_type": "execute_result"
    }
   ],
   "source": [
    "a"
   ]
  },
  {
   "cell_type": "code",
   "execution_count": 4,
   "id": "ca46cd79-eb7c-453e-b346-56b8f8d72365",
   "metadata": {},
   "outputs": [],
   "source": [
    "b=[10,1,2,3,4,5]"
   ]
  },
  {
   "cell_type": "code",
   "execution_count": 5,
   "id": "f897b15b-3f5a-4a00-bcff-5b3770775e91",
   "metadata": {},
   "outputs": [],
   "source": [
    "c=np.array(b)"
   ]
  },
  {
   "cell_type": "code",
   "execution_count": 6,
   "id": "378dfe52-7b30-4afc-af2b-a546ef2b812b",
   "metadata": {},
   "outputs": [
    {
     "data": {
      "text/plain": [
       "array([10,  1,  2,  3,  4,  5])"
      ]
     },
     "execution_count": 6,
     "metadata": {},
     "output_type": "execute_result"
    }
   ],
   "source": [
    "c"
   ]
  },
  {
   "cell_type": "code",
   "execution_count": 8,
   "id": "51fa0c49-5c42-496a-bb2f-6c5b1cfd2bdf",
   "metadata": {},
   "outputs": [
    {
     "data": {
      "text/plain": [
       "np.int64(10)"
      ]
     },
     "execution_count": 8,
     "metadata": {},
     "output_type": "execute_result"
    }
   ],
   "source": [
    "c[0]"
   ]
  },
  {
   "cell_type": "code",
   "execution_count": 9,
   "id": "b65ed125-e963-468f-bad8-66d8ddd91845",
   "metadata": {},
   "outputs": [
    {
     "data": {
      "text/plain": [
       "6"
      ]
     },
     "execution_count": 9,
     "metadata": {},
     "output_type": "execute_result"
    }
   ],
   "source": [
    "c.size"
   ]
  },
  {
   "cell_type": "code",
   "execution_count": 10,
   "id": "92c3d228-4248-43ff-bdf2-b31dcbf0efc7",
   "metadata": {},
   "outputs": [
    {
     "data": {
      "text/plain": [
       "(6,)"
      ]
     },
     "execution_count": 10,
     "metadata": {},
     "output_type": "execute_result"
    }
   ],
   "source": [
    "c.shape"
   ]
  },
  {
   "cell_type": "code",
   "execution_count": 13,
   "id": "a0ddbc75-fcc8-48a4-af9c-ff2923be7727",
   "metadata": {},
   "outputs": [
    {
     "data": {
      "text/plain": [
       "numpy.ndarray"
      ]
     },
     "execution_count": 13,
     "metadata": {},
     "output_type": "execute_result"
    }
   ],
   "source": [
    "type(c)"
   ]
  },
  {
   "cell_type": "code",
   "execution_count": 14,
   "id": "dc0fe3ad-0a41-4b72-8c3d-c580aacbe19d",
   "metadata": {},
   "outputs": [
    {
     "data": {
      "text/plain": [
       "array([0, 1, 2, 3, 4, 5])"
      ]
     },
     "execution_count": 14,
     "metadata": {},
     "output_type": "execute_result"
    }
   ],
   "source": [
    "c[0]=0 \n",
    "c"
   ]
  },
  {
   "cell_type": "code",
   "execution_count": 17,
   "id": "106658bf-5826-4718-8539-63ecd3744885",
   "metadata": {},
   "outputs": [
    {
     "data": {
      "text/plain": [
       "array([0, 1, 2])"
      ]
     },
     "execution_count": 17,
     "metadata": {},
     "output_type": "execute_result"
    }
   ],
   "source": [
    "d=c[0:3]\n",
    "d"
   ]
  },
  {
   "cell_type": "markdown",
   "id": "5b0cc53f-5b30-4d00-b627-45a8023bcb05",
   "metadata": {},
   "source": [
    "# Vector Addition And Subtraction"
   ]
  },
  {
   "cell_type": "code",
   "execution_count": 22,
   "id": "c850e8a1-eb9a-4931-8735-2c6996217de5",
   "metadata": {},
   "outputs": [],
   "source": [
    "u=np.array([0,1])"
   ]
  },
  {
   "cell_type": "code",
   "execution_count": 23,
   "id": "32bfe37a-7c66-4483-8a9c-a1bffd4271c4",
   "metadata": {},
   "outputs": [],
   "source": [
    "v=np.array([1,0])"
   ]
  },
  {
   "cell_type": "code",
   "execution_count": 28,
   "id": "547a72e4-fc24-4c5d-b397-bca65ce2a940",
   "metadata": {},
   "outputs": [
    {
     "data": {
      "text/plain": [
       "array([1, 1])"
      ]
     },
     "execution_count": 28,
     "metadata": {},
     "output_type": "execute_result"
    }
   ],
   "source": [
    "z=u+v\n",
    "z"
   ]
  },
  {
   "cell_type": "code",
   "execution_count": 29,
   "id": "41bdabbe-6cf2-4a29-b7c3-f467c5d848fe",
   "metadata": {},
   "outputs": [],
   "source": [
    "#z:array([1,1])"
   ]
  },
  {
   "cell_type": "code",
   "execution_count": 30,
   "id": "808d4abe-a68c-4f01-bbd3-888982139635",
   "metadata": {},
   "outputs": [
    {
     "data": {
      "text/plain": [
       "array([-1,  1])"
      ]
     },
     "execution_count": 30,
     "metadata": {},
     "output_type": "execute_result"
    }
   ],
   "source": [
    "y=u-v\n",
    "y"
   ]
  },
  {
   "cell_type": "markdown",
   "id": "d53b488d-7d52-4cbe-8b16-ad9b0c6a1d34",
   "metadata": {},
   "source": [
    "# Array Multiplication with a scalar"
   ]
  },
  {
   "cell_type": "code",
   "execution_count": 32,
   "id": "62359766-79dd-48e7-81ee-47f9afebdd88",
   "metadata": {},
   "outputs": [
    {
     "data": {
      "text/plain": [
       "array([3, 3])"
      ]
     },
     "execution_count": 32,
     "metadata": {},
     "output_type": "execute_result"
    }
   ],
   "source": [
    "x=z*3\n",
    "x"
   ]
  },
  {
   "cell_type": "markdown",
   "id": "4e1bde8f-7bb7-49f5-9a64-8a408ee5efb1",
   "metadata": {},
   "source": [
    "# Product of two numpy arrays"
   ]
  },
  {
   "cell_type": "code",
   "execution_count": 33,
   "id": "f42050ba-2245-418f-885d-59b7b9d1e3ad",
   "metadata": {},
   "outputs": [
    {
     "data": {
      "text/plain": [
       "array([3, 4])"
      ]
     },
     "execution_count": 33,
     "metadata": {},
     "output_type": "execute_result"
    }
   ],
   "source": [
    "w=np.array([3,4])\n",
    "w"
   ]
  },
  {
   "cell_type": "code",
   "execution_count": 34,
   "id": "d792bfd8-2006-4706-af02-b41b1ec487dc",
   "metadata": {},
   "outputs": [
    {
     "data": {
      "text/plain": [
       "array([ 9, 12])"
      ]
     },
     "execution_count": 34,
     "metadata": {},
     "output_type": "execute_result"
    }
   ],
   "source": [
    "p=x*w\n",
    "p"
   ]
  },
  {
   "cell_type": "code",
   "execution_count": 35,
   "id": "8ed0dbc0-be7b-4238-90f6-4821e2b0844b",
   "metadata": {},
   "outputs": [],
   "source": [
    "dp=np.dot(x,w)"
   ]
  },
  {
   "cell_type": "code",
   "execution_count": 36,
   "id": "06a62127-6d99-4b60-8017-c5b0d16c507f",
   "metadata": {},
   "outputs": [
    {
     "data": {
      "text/plain": [
       "np.int64(21)"
      ]
     },
     "execution_count": 36,
     "metadata": {},
     "output_type": "execute_result"
    }
   ],
   "source": [
    "dp"
   ]
  },
  {
   "cell_type": "markdown",
   "id": "c7f66bd3-404d-482f-8bdf-8401b89d827e",
   "metadata": {},
   "source": [
    "# Universal Functions"
   ]
  },
  {
   "cell_type": "code",
   "execution_count": 38,
   "id": "3aed6c8d-548c-468f-b458-ee87699d0100",
   "metadata": {},
   "outputs": [],
   "source": [
    "n=np.array([0,1,3,2,5,6,4,8,7])"
   ]
  },
  {
   "cell_type": "code",
   "execution_count": 41,
   "id": "14993115-6b95-4a96-a17f-a47133d96151",
   "metadata": {},
   "outputs": [
    {
     "data": {
      "text/plain": [
       "np.float64(4.0)"
      ]
     },
     "execution_count": 41,
     "metadata": {},
     "output_type": "execute_result"
    }
   ],
   "source": [
    "m=mean=n.mean()\n",
    "m"
   ]
  },
  {
   "cell_type": "code",
   "execution_count": 42,
   "id": "4049e5ab-a757-4956-a29e-b60e6e9f428a",
   "metadata": {},
   "outputs": [
    {
     "data": {
      "text/plain": [
       "np.int64(8)"
      ]
     },
     "execution_count": 42,
     "metadata": {},
     "output_type": "execute_result"
    }
   ],
   "source": [
    "k=n.max()\n",
    "k"
   ]
  },
  {
   "cell_type": "markdown",
   "id": "232dea28-6ffe-4caa-ae96-6d76430f59ff",
   "metadata": {},
   "source": [
    "## linespace function"
   ]
  },
  {
   "cell_type": "code",
   "execution_count": 60,
   "id": "f05f4bf6-59d1-4ec9-b233-38a71d93aceb",
   "metadata": {},
   "outputs": [],
   "source": [
    "import matplotlib.pyplot as plt"
   ]
  },
  {
   "cell_type": "code",
   "execution_count": 61,
   "id": "2cd27920-b047-4d6c-93a0-c7e1abdf7a81",
   "metadata": {},
   "outputs": [
    {
     "data": {
      "text/plain": [
       "array([-2. , -1.2, -0.4,  0.4,  1.2,  2. ])"
      ]
     },
     "execution_count": 61,
     "metadata": {},
     "output_type": "execute_result"
    }
   ],
   "source": [
    "l=np.linspace(-2,2,num=6)\n",
    "l"
   ]
  },
  {
   "cell_type": "code",
   "execution_count": 65,
   "id": "62d3b109-11ab-4ad1-96fe-d68bf0b9337a",
   "metadata": {},
   "outputs": [],
   "source": [
    "f=np.linspace(0,2*np.pi,100)\n",
    "g=np.sin(f)"
   ]
  },
  {
   "cell_type": "code",
   "execution_count": 66,
   "id": "8ce6da02-aff7-4e78-ba20-87c789a4ca51",
   "metadata": {},
   "outputs": [],
   "source": [
    "%matplotlib inline"
   ]
  },
  {
   "cell_type": "code",
   "execution_count": 67,
   "id": "f8bdc10a-f81f-4b1b-8d9e-95b164b6faec",
   "metadata": {},
   "outputs": [
    {
     "data": {
      "text/plain": [
       "[<matplotlib.lines.Line2D at 0x2b6fd77fed0>]"
      ]
     },
     "execution_count": 67,
     "metadata": {},
     "output_type": "execute_result"
    }
   ],
   "source": [
    "plt.plot(f,g)"
   ]
  },
  {
   "cell_type": "code",
   "execution_count": 68,
   "id": "09577927-285c-47f2-8c32-9d5eed02693b",
   "metadata": {},
   "outputs": [
    {
     "data": {
      "image/png": "[encoded data removed]",
      "text/plain": [
       "<Figure size 640x480 with 1 Axes>"
      ]
     },
     "metadata": {},
     "output_type": "display_data"
    }
   ],
   "source": [
    "plt.show()"
   ]
  },
  {
   "cell_type": "code",
   "execution_count": null,
   "id": "2581b3a0-71c4-4765-a5fb-93254c412b39",
   "metadata": {},
   "outputs": [],
   "source": []
  }
 ],
 "metadata": {
  "kernelspec": {
   "display_name": "Python 3 (ipykernel)",
   "language": "python",
   "name": "python3"
  },
  "language_info": {
   "codemirror_mode": {
    "name": "ipython",
    "version": 3
   },
   "file_extension": ".py",
   "mimetype": "text/x-python",
   "name": "python",
   "nbconvert_exporter": "python",
   "pygments_lexer": "ipython3",
   "version": "3.13.5"
  }
 },
 "nbformat": 4,
 "nbformat_minor": 5
}
