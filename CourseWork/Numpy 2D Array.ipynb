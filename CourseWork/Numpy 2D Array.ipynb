{
 "cells": [
  {
   "cell_type": "markdown",
   "id": "0d358f35-994c-4cf9-9f10-d0768f28e92f",
   "metadata": {},
   "source": [
    "# Two-D Arrays"
   ]
  },
  {
   "cell_type": "code",
   "execution_count": 8,
   "id": "bde11b68-ffc7-4b10-b5db-d7d086afa29b",
   "metadata": {},
   "outputs": [
    {
     "name": "stdout",
     "output_type": "stream",
     "text": [
      "1\n",
      "6\n"
     ]
    }
   ],
   "source": [
    "import numpy as np\n",
    "\n",
    "# Create a 3x3 array\n",
    "A = np.array([\n",
    "    [1, 2, 3],\n",
    "    [4, 5, 6],\n",
    "    [7, 8, 9]\n",
    "])\n",
    "\n",
    "# Now you can access elements, e.g.:\n",
    "print(A[0][0])  # Output: 1\n",
    "print(A[1][2])  # Output: 6\n",
    "\n",
    "# If you want a regular Python list that contains the same rows as A\n",
    "a = [\n",
    "    [A[0][0], A[0][1], A[0][2]],\n",
    "    [A[1][0], A[1][1], A[1][2]],\n",
    "    [A[2][0], A[2][1], A[2][2]]\n",
    "]\n"
   ]
  },
  {
   "cell_type": "code",
   "execution_count": 9,
   "id": "0273a728-22b7-4974-a891-851b8bb6946f",
   "metadata": {},
   "outputs": [
    {
     "data": {
      "text/plain": [
       "array([[1, 2, 3],\n",
       "       [4, 5, 6],\n",
       "       [7, 8, 9]])"
      ]
     },
     "execution_count": 9,
     "metadata": {},
     "output_type": "execute_result"
    }
   ],
   "source": [
    "A"
   ]
  },
  {
   "cell_type": "code",
   "execution_count": 10,
   "id": "ce9f89fd-b12c-41dc-a227-4428abefa916",
   "metadata": {},
   "outputs": [
    {
     "data": {
      "text/plain": [
       "[[np.int64(1), np.int64(2), np.int64(3)],\n",
       " [np.int64(4), np.int64(5), np.int64(6)],\n",
       " [np.int64(7), np.int64(8), np.int64(9)]]"
      ]
     },
     "execution_count": 10,
     "metadata": {},
     "output_type": "execute_result"
    }
   ],
   "source": [
    "a"
   ]
  },
  {
   "cell_type": "code",
   "execution_count": 12,
   "id": "74b77731-f630-4db3-b6bf-7a8b8719bfb8",
   "metadata": {},
   "outputs": [],
   "source": [
    "B = np.array([\n",
    "    [9, 8, 7],\n",
    "    [6, 5, 4],\n",
    "    [3, 2, 1]\n",
    "])"
   ]
  },
  {
   "cell_type": "code",
   "execution_count": 13,
   "id": "48f1fde6-ac59-4bef-8392-fa78d2fe878b",
   "metadata": {},
   "outputs": [
    {
     "name": "stdout",
     "output_type": "stream",
     "text": [
      "Slice of A:\n",
      " [[1 2]\n",
      " [4 5]]\n",
      "Dot product of vec1 and vec2: 32\n",
      "Matrix multiplication result:\n",
      " [[ 30  24  18]\n",
      " [ 84  69  54]\n",
      " [138 114  90]]\n",
      "Sum by row: [ 6 15 24]\n",
      "Square root of A:\n",
      " [[1.         1.41421356 1.73205081]\n",
      " [2.         2.23606798 2.44948974]\n",
      " [2.64575131 2.82842712 3.        ]]\n"
     ]
    }
   ],
   "source": [
    "# --------------------------\n",
    "# Slicing\n",
    "# --------------------------\n",
    "# Extract first two rows and first two columns\n",
    "slice_A = A[:2, :2]  # [[1, 2], [4, 5]]\n",
    "\n",
    "# Extract last row\n",
    "last_row = A[-1, :]  # [7, 8, 9]\n",
    "\n",
    "# Extract second column\n",
    "second_col = A[:, 1]  # [2, 5, 8]\n",
    "\n",
    "# --------------------------\n",
    "# Arithmetic operations (element-wise)\n",
    "# --------------------------\n",
    "add = A + B           # Addition\n",
    "subtract = A - B      # Subtraction\n",
    "multiply = A * B      # Element-wise multiplication\n",
    "divide = A / B        # Element-wise division (watch divide by zero)\n",
    "\n",
    "# Scalar operations\n",
    "add_scalar = A + 10\n",
    "multiply_scalar = A * 3\n",
    "\n",
    "# --------------------------\n",
    "# Dot product and matrix operations\n",
    "# --------------------------\n",
    "# Dot product of two vectors\n",
    "vec1 = np.array([1, 2, 3])\n",
    "vec2 = np.array([4, 5, 6])\n",
    "dot_product = np.dot(vec1, vec2)  # 1*4 + 2*5 + 3*6 = 32\n",
    "\n",
    "# Matrix multiplication\n",
    "mat_mult = np.dot(A, B)  # 3x3 matrix result\n",
    "\n",
    "# Another way using operator @ (Python 3.5+)\n",
    "mat_mult_2 = A @ B\n",
    "\n",
    "# --------------------------\n",
    "# Other useful functions\n",
    "# --------------------------\n",
    "# Transpose\n",
    "A_T = A.T\n",
    "\n",
    "# Sum of all elements\n",
    "total_sum = A.sum()\n",
    "\n",
    "# Sum by axis\n",
    "sum_by_row = A.sum(axis=1)     # Sum of each row\n",
    "sum_by_col = A.sum(axis=0)     # Sum of each column\n",
    "\n",
    "# Mean of all elements\n",
    "mean_val = A.mean()\n",
    "\n",
    "# Element-wise square root\n",
    "sqrt_A = np.sqrt(A)\n",
    "\n",
    "# --------------------------\n",
    "# Print Outputs (optional)\n",
    "# --------------------------\n",
    "print(\"Slice of A:\\n\", slice_A)\n",
    "print(\"Dot product of vec1 and vec2:\", dot_product)\n",
    "print(\"Matrix multiplication result:\\n\", mat_mult)\n",
    "print(\"Sum by row:\", sum_by_row)\n",
    "print(\"Square root of A:\\n\", sqrt_A)"
   ]
  },
  {
   "cell_type": "code",
   "execution_count": null,
   "id": "a26d6ae0-a290-4c3b-9e13-f3c4a5c33175",
   "metadata": {},
   "outputs": [],
   "source": []
  }
 ],
 "metadata": {
  "kernelspec": {
   "display_name": "Python 3 (ipykernel)",
   "language": "python",
   "name": "python3"
  },
  "language_info": {
   "codemirror_mode": {
    "name": "ipython",
    "version": 3
   },
   "file_extension": ".py",
   "mimetype": "text/x-python",
   "name": "python",
   "nbconvert_exporter": "python",
   "pygments_lexer": "ipython3",
   "version": "3.13.5"
  }
 },
 "nbformat": 4,
 "nbformat_minor": 5
}
