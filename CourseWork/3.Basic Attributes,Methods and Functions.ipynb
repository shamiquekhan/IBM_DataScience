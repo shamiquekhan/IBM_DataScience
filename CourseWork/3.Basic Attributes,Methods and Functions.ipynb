{
 "cells": [
  {
   "cell_type": "code",
   "execution_count": 1,
   "id": "a2effd1c-91f4-40e2-a26f-ccdb0d223fd4",
   "metadata": {},
   "outputs": [],
   "source": [
    "import pandas as pd\n"
   ]
  },
  {
   "cell_type": "code",
   "execution_count": 2,
   "id": "4695fced-19a5-4705-b757-0295e9c7a772",
   "metadata": {},
   "outputs": [],
   "source": [
    "#reading the csv file\n",
    "df_salary=pd.read_csv(\"Salary.csv\")"
   ]
  },
  {
   "cell_type": "markdown",
   "id": "2a261600-4c85-4be7-a172-34f0ff8527b3",
   "metadata": {},
   "source": [
    "# 1. Attributes\n"
   ]
  },
  {
   "cell_type": "code",
   "execution_count": 3,
   "id": "e70ef161-f64b-42dc-aa61-7f3d1726704a",
   "metadata": {},
   "outputs": [
    {
     "data": {
      "text/plain": [
       "(14017, 7)"
      ]
     },
     "execution_count": 3,
     "metadata": {},
     "output_type": "execute_result"
    }
   ],
   "source": [
    "# gettting access to the shape attribute\n",
    "df_salary.shape"
   ]
  },
  {
   "cell_type": "code",
   "execution_count": 4,
   "id": "713fb93c-7d66-4ce1-85e5-6e49af4fd52a",
   "metadata": {},
   "outputs": [
    {
     "data": {
      "text/plain": [
       "RangeIndex(start=0, stop=14017, step=1)"
      ]
     },
     "execution_count": 4,
     "metadata": {},
     "output_type": "execute_result"
    }
   ],
   "source": [
    "# getting access to the index attribute\n",
    "df_salary.index"
   ]
  },
  {
   "cell_type": "code",
   "execution_count": 5,
   "id": "4e2c0785-19c0-4c89-aaa0-eeb296f31487",
   "metadata": {},
   "outputs": [
    {
     "data": {
      "text/plain": [
       "Index(['name', 'JobTitle', 'AgencyID', 'Agency', 'HireDate', 'AnnualSalary',\n",
       "       'GrossPay'],\n",
       "      dtype='object')"
      ]
     },
     "execution_count": 5,
     "metadata": {},
     "output_type": "execute_result"
    }
   ],
   "source": [
    "#getting access to the column attribute\n",
    "df_salary.columns"
   ]
  },
  {
   "cell_type": "code",
   "execution_count": 6,
   "id": "37add4bf-9377-4969-8d68-20df86924f44",
   "metadata": {},
   "outputs": [
    {
     "data": {
      "text/plain": [
       "name            object\n",
       "JobTitle        object\n",
       "AgencyID        object\n",
       "Agency          object\n",
       "HireDate        object\n",
       "AnnualSalary    object\n",
       "GrossPay        object\n",
       "dtype: object"
      ]
     },
     "execution_count": 6,
     "metadata": {},
     "output_type": "execute_result"
    }
   ],
   "source": [
    "# data types of each column \n",
    "df_salary.dtypes"
   ]
  },
  {
   "cell_type": "code",
   "execution_count": 7,
   "id": "6292e14b-ff5b-4536-9568-4fb7b592f0ba",
   "metadata": {},
   "outputs": [
    {
     "name": "stdout",
     "output_type": "stream",
     "text": [
      "<class 'pandas.core.frame.DataFrame'>\n",
      "RangeIndex: 14017 entries, 0 to 14016\n",
      "Data columns (total 7 columns):\n",
      " #   Column        Non-Null Count  Dtype \n",
      "---  ------        --------------  ----- \n",
      " 0   name          14017 non-null  object\n",
      " 1   JobTitle      14017 non-null  object\n",
      " 2   AgencyID      14017 non-null  object\n",
      " 3   Agency        14017 non-null  object\n",
      " 4   HireDate      14007 non-null  object\n",
      " 5   AnnualSalary  14017 non-null  object\n",
      " 6   GrossPay      13748 non-null  object\n",
      "dtypes: object(7)\n",
      "memory usage: 766.7+ KB\n"
     ]
    }
   ],
   "source": [
    "#showing the info of the dataframe\n",
    "df_salary.info()"
   ]
  },
  {
   "cell_type": "code",
   "execution_count": 9,
   "id": "97da2640-0874-4a0e-a062-d3f4f2d1907f",
   "metadata": {},
   "outputs": [
    {
     "data": {
      "text/html": [
       "<div>\n",
       "<style scoped>\n",
       "    .dataframe tbody tr th:only-of-type {\n",
       "        vertical-align: middle;\n",
       "    }\n",
       "\n",
       "    .dataframe tbody tr th {\n",
       "        vertical-align: top;\n",
       "    }\n",
       "\n",
       "    .dataframe thead th {\n",
       "        text-align: right;\n",
       "    }\n",
       "</style>\n",
       "<table border=\"1\" class=\"dataframe\">\n",
       "  <thead>\n",
       "    <tr style=\"text-align: right;\">\n",
       "      <th></th>\n",
       "      <th>name</th>\n",
       "      <th>JobTitle</th>\n",
       "      <th>AgencyID</th>\n",
       "      <th>Agency</th>\n",
       "      <th>HireDate</th>\n",
       "      <th>AnnualSalary</th>\n",
       "      <th>GrossPay</th>\n",
       "    </tr>\n",
       "  </thead>\n",
       "  <tbody>\n",
       "    <tr>\n",
       "      <th>count</th>\n",
       "      <td>14017</td>\n",
       "      <td>14017</td>\n",
       "      <td>14017</td>\n",
       "      <td>14017</td>\n",
       "      <td>14007</td>\n",
       "      <td>14017</td>\n",
       "      <td>13748</td>\n",
       "    </tr>\n",
       "    <tr>\n",
       "      <th>unique</th>\n",
       "      <td>13864</td>\n",
       "      <td>1056</td>\n",
       "      <td>674</td>\n",
       "      <td>673</td>\n",
       "      <td>4732</td>\n",
       "      <td>1654</td>\n",
       "      <td>13495</td>\n",
       "    </tr>\n",
       "    <tr>\n",
       "      <th>top</th>\n",
       "      <td>Brown,Kevin M</td>\n",
       "      <td>POLICE OFFICER</td>\n",
       "      <td>P04001</td>\n",
       "      <td>R&amp;P-Recreation (part-time) (</td>\n",
       "      <td>06/23/2007</td>\n",
       "      <td>$20800.00</td>\n",
       "      <td>$1230.77</td>\n",
       "    </tr>\n",
       "    <tr>\n",
       "      <th>freq</th>\n",
       "      <td>3</td>\n",
       "      <td>1843</td>\n",
       "      <td>324</td>\n",
       "      <td>526</td>\n",
       "      <td>71</td>\n",
       "      <td>352</td>\n",
       "      <td>60</td>\n",
       "    </tr>\n",
       "  </tbody>\n",
       "</table>\n",
       "</div>"
      ],
      "text/plain": [
       "                 name        JobTitle AgencyID                        Agency  \\\n",
       "count           14017           14017    14017                         14017   \n",
       "unique          13864            1056      674                           673   \n",
       "top     Brown,Kevin M  POLICE OFFICER   P04001  R&P-Recreation (part-time) (   \n",
       "freq                3            1843      324                           526   \n",
       "\n",
       "          HireDate AnnualSalary  GrossPay  \n",
       "count        14007        14017     13748  \n",
       "unique        4732         1654     13495  \n",
       "top     06/23/2007    $20800.00  $1230.77  \n",
       "freq            71          352        60  "
      ]
     },
     "execution_count": 9,
     "metadata": {},
     "output_type": "execute_result"
    }
   ],
   "source": [
    "# describing basic statistics of the dataframe\n",
    "df_salary.describe()"
   ]
  },
  {
   "cell_type": "markdown",
   "id": "028e5fb1-b6c8-4d25-a994-b83602b32645",
   "metadata": {},
   "source": [
    "# 2. functions"
   ]
  },
  {
   "cell_type": "code",
   "execution_count": 10,
   "id": "f552c905-fc94-4102-940d-188d33b2b78f",
   "metadata": {},
   "outputs": [
    {
     "data": {
      "text/plain": [
       "14017"
      ]
     },
     "execution_count": 10,
     "metadata": {},
     "output_type": "execute_result"
    }
   ],
   "source": [
    "# obtaining the lenght of the dataframe ( lenght of the rows)\n",
    "len(df_salary)"
   ]
  },
  {
   "cell_type": "code",
   "execution_count": 12,
   "id": "48ad245e-c640-454a-81a3-a9c1ef15db58",
   "metadata": {},
   "outputs": [
    {
     "data": {
      "text/plain": [
       "14016"
      ]
     },
     "execution_count": 12,
     "metadata": {},
     "output_type": "execute_result"
    }
   ],
   "source": [
    "# obtaining the highest index of the dataframe\n",
    "max(df_salary.index)"
   ]
  },
  {
   "cell_type": "code",
   "execution_count": 13,
   "id": "677bb24b-3504-4f28-85ee-53b2d7473501",
   "metadata": {},
   "outputs": [
    {
     "data": {
      "text/plain": [
       "0"
      ]
     },
     "execution_count": 13,
     "metadata": {},
     "output_type": "execute_result"
    }
   ],
   "source": [
    "# obtaining the lowest index of the dataframe\n",
    "min(df_salary.index)"
   ]
  },
  {
   "cell_type": "code",
   "execution_count": 14,
   "id": "37060b00-74a8-4922-bc84-06839071f91b",
   "metadata": {},
   "outputs": [
    {
     "data": {
      "text/plain": [
       "pandas.core.frame.DataFrame"
      ]
     },
     "execution_count": 14,
     "metadata": {},
     "output_type": "execute_result"
    }
   ],
   "source": [
    "# obtaining the data type \n",
    "type(df_salary)"
   ]
  },
  {
   "cell_type": "code",
   "execution_count": 15,
   "id": "5545e743-7191-47b3-9e56-66ba66b29b35",
   "metadata": {},
   "outputs": [
    {
     "data": {
      "text/html": [
       "<div>\n",
       "<style scoped>\n",
       "    .dataframe tbody tr th:only-of-type {\n",
       "        vertical-align: middle;\n",
       "    }\n",
       "\n",
       "    .dataframe tbody tr th {\n",
       "        vertical-align: top;\n",
       "    }\n",
       "\n",
       "    .dataframe thead th {\n",
       "        text-align: right;\n",
       "    }\n",
       "</style>\n",
       "<table border=\"1\" class=\"dataframe\">\n",
       "  <thead>\n",
       "    <tr style=\"text-align: right;\">\n",
       "      <th></th>\n",
       "      <th>name</th>\n",
       "      <th>JobTitle</th>\n",
       "      <th>AgencyID</th>\n",
       "      <th>Agency</th>\n",
       "      <th>HireDate</th>\n",
       "      <th>AnnualSalary</th>\n",
       "      <th>GrossPay</th>\n",
       "    </tr>\n",
       "  </thead>\n",
       "  <tbody>\n",
       "    <tr>\n",
       "      <th>0</th>\n",
       "      <td>Aaron,Patricia G</td>\n",
       "      <td>Facilities/Office Services II</td>\n",
       "      <td>A03031</td>\n",
       "      <td>OED-Employment Dev (031)</td>\n",
       "      <td>10/24/1979</td>\n",
       "      <td>$55314.00</td>\n",
       "      <td>$53626.04</td>\n",
       "    </tr>\n",
       "    <tr>\n",
       "      <th>1</th>\n",
       "      <td>Aaron,Petra L</td>\n",
       "      <td>ASSISTANT STATE'S ATTORNEY</td>\n",
       "      <td>A29045</td>\n",
       "      <td>States Attorneys Office (045)</td>\n",
       "      <td>09/25/2006</td>\n",
       "      <td>$74000.00</td>\n",
       "      <td>$73000.08</td>\n",
       "    </tr>\n",
       "    <tr>\n",
       "      <th>2</th>\n",
       "      <td>Abaineh,Yohannes T</td>\n",
       "      <td>EPIDEMIOLOGIST</td>\n",
       "      <td>A65026</td>\n",
       "      <td>HLTH-Health Department (026)</td>\n",
       "      <td>07/23/2009</td>\n",
       "      <td>$64500.00</td>\n",
       "      <td>$64403.84</td>\n",
       "    </tr>\n",
       "    <tr>\n",
       "      <th>3</th>\n",
       "      <td>Abbene,Anthony M</td>\n",
       "      <td>POLICE OFFICER</td>\n",
       "      <td>A99005</td>\n",
       "      <td>Police Department (005)</td>\n",
       "      <td>07/24/2013</td>\n",
       "      <td>$46309.00</td>\n",
       "      <td>$59620.16</td>\n",
       "    </tr>\n",
       "    <tr>\n",
       "      <th>4</th>\n",
       "      <td>Abbey,Emmanuel</td>\n",
       "      <td>CONTRACT SERV SPEC II</td>\n",
       "      <td>A40001</td>\n",
       "      <td>M-R Info Technology (001)</td>\n",
       "      <td>05/01/2013</td>\n",
       "      <td>$60060.00</td>\n",
       "      <td>$54059.60</td>\n",
       "    </tr>\n",
       "    <tr>\n",
       "      <th>...</th>\n",
       "      <td>...</td>\n",
       "      <td>...</td>\n",
       "      <td>...</td>\n",
       "      <td>...</td>\n",
       "      <td>...</td>\n",
       "      <td>...</td>\n",
       "      <td>...</td>\n",
       "    </tr>\n",
       "    <tr>\n",
       "      <th>14012</th>\n",
       "      <td>Zoppo Jr,Phillip A</td>\n",
       "      <td>MASON SUPERVISOR</td>\n",
       "      <td>A50509</td>\n",
       "      <td>DPW-Water &amp; Waste Water (509)</td>\n",
       "      <td>04/04/1988</td>\n",
       "      <td>$53215.00</td>\n",
       "      <td>$72620.54</td>\n",
       "    </tr>\n",
       "    <tr>\n",
       "      <th>14013</th>\n",
       "      <td>Zoppo,Catherine B</td>\n",
       "      <td>REAL ESTATE AGENT I</td>\n",
       "      <td>A15001</td>\n",
       "      <td>COMP-Real Estate (001)</td>\n",
       "      <td>03/14/1977</td>\n",
       "      <td>$59482.00</td>\n",
       "      <td>$60412.10</td>\n",
       "    </tr>\n",
       "    <tr>\n",
       "      <th>14014</th>\n",
       "      <td>Zorbach,Michael K</td>\n",
       "      <td>POLICE OFFICER</td>\n",
       "      <td>A99224</td>\n",
       "      <td>Police Department (224)</td>\n",
       "      <td>05/02/2012</td>\n",
       "      <td>$47012.00</td>\n",
       "      <td>$55458.09</td>\n",
       "    </tr>\n",
       "    <tr>\n",
       "      <th>14015</th>\n",
       "      <td>Zovistoski,Zachary D</td>\n",
       "      <td>POLICE OFFICER</td>\n",
       "      <td>A99006</td>\n",
       "      <td>Police Department (006)</td>\n",
       "      <td>12/17/2013</td>\n",
       "      <td>$46309.00</td>\n",
       "      <td>$52243.90</td>\n",
       "    </tr>\n",
       "    <tr>\n",
       "      <th>14016</th>\n",
       "      <td>Zukowski,Charles J</td>\n",
       "      <td>Waste Water Tech Supv I Pump</td>\n",
       "      <td>A50206</td>\n",
       "      <td>DPW-Water &amp; Waste Water (206)</td>\n",
       "      <td>10/15/1979</td>\n",
       "      <td>$54640.00</td>\n",
       "      <td>$55997.79</td>\n",
       "    </tr>\n",
       "  </tbody>\n",
       "</table>\n",
       "<p>14017 rows × 7 columns</p>\n",
       "</div>"
      ],
      "text/plain": [
       "                       name                       JobTitle AgencyID  \\\n",
       "0          Aaron,Patricia G  Facilities/Office Services II   A03031   \n",
       "1             Aaron,Petra L     ASSISTANT STATE'S ATTORNEY   A29045   \n",
       "2        Abaineh,Yohannes T                 EPIDEMIOLOGIST   A65026   \n",
       "3          Abbene,Anthony M                 POLICE OFFICER   A99005   \n",
       "4            Abbey,Emmanuel          CONTRACT SERV SPEC II   A40001   \n",
       "...                     ...                            ...      ...   \n",
       "14012    Zoppo Jr,Phillip A               MASON SUPERVISOR   A50509   \n",
       "14013     Zoppo,Catherine B            REAL ESTATE AGENT I   A15001   \n",
       "14014     Zorbach,Michael K                 POLICE OFFICER   A99224   \n",
       "14015  Zovistoski,Zachary D                 POLICE OFFICER   A99006   \n",
       "14016    Zukowski,Charles J   Waste Water Tech Supv I Pump   A50206   \n",
       "\n",
       "                              Agency    HireDate AnnualSalary   GrossPay  \n",
       "0           OED-Employment Dev (031)  10/24/1979    $55314.00  $53626.04  \n",
       "1      States Attorneys Office (045)  09/25/2006    $74000.00  $73000.08  \n",
       "2       HLTH-Health Department (026)  07/23/2009    $64500.00  $64403.84  \n",
       "3            Police Department (005)  07/24/2013    $46309.00  $59620.16  \n",
       "4          M-R Info Technology (001)  05/01/2013    $60060.00  $54059.60  \n",
       "...                              ...         ...          ...        ...  \n",
       "14012  DPW-Water & Waste Water (509)  04/04/1988    $53215.00  $72620.54  \n",
       "14013         COMP-Real Estate (001)  03/14/1977    $59482.00  $60412.10  \n",
       "14014        Police Department (224)  05/02/2012    $47012.00  $55458.09  \n",
       "14015        Police Department (006)  12/17/2013    $46309.00  $52243.90  \n",
       "14016  DPW-Water & Waste Water (206)  10/15/1979    $54640.00  $55997.79  \n",
       "\n",
       "[14017 rows x 7 columns]"
      ]
     },
     "execution_count": 15,
     "metadata": {},
     "output_type": "execute_result"
    }
   ],
   "source": [
    "#rounding the values of the dataset \n",
    "round(df_salary,2)"
   ]
  },
  {
   "cell_type": "code",
   "execution_count": null,
   "id": "f2a195b3-e88e-4ed2-88a2-c2757d5770c5",
   "metadata": {},
   "outputs": [],
   "source": []
  }
 ],
 "metadata": {
  "kernelspec": {
   "display_name": "Python 3 (ipykernel)",
   "language": "python",
   "name": "python3"
  },
  "language_info": {
   "codemirror_mode": {
    "name": "ipython",
    "version": 3
   },
   "file_extension": ".py",
   "mimetype": "text/x-python",
   "name": "python",
   "nbconvert_exporter": "python",
   "pygments_lexer": "ipython3",
   "version": "3.13.5"
  }
 },
 "nbformat": 4,
 "nbformat_minor": 5
}
